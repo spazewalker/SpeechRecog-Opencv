{
  "nbformat": 4,
  "nbformat_minor": 0,
  "metadata": {
    "colab": {
      "name": "Jasper_encoder_features.ipynb",
      "provenance": [],
      "collapsed_sections": [],
      "authorship_tag": "ABX9TyNiOUuKbuB2l5lni1rQM944",
      "include_colab_link": true
    },
    "kernelspec": {
      "name": "python3",
      "display_name": "Python 3"
    },
    "language_info": {
      "name": "python"
    }
  },
  "cells": [
    {
      "cell_type": "markdown",
      "metadata": {
        "id": "view-in-github",
        "colab_type": "text"
      },
      "source": [
        "<a href=\"https://colab.research.google.com/github/spazewalker/SpeechRecog-Opencv/blob/master/Jasper_encoder_features.ipynb\" target=\"_parent\"><img src=\"https://colab.research.google.com/assets/colab-badge.svg\" alt=\"Open In Colab\"/></a>"
      ]
    },
    {
      "cell_type": "code",
      "metadata": {
        "id": "p5a4UteGJLDN"
      },
      "source": [
        "import random\n",
        "import numpy as np\n",
        "\n",
        "def normalize_batch(x, seq_len, normalize_type: str):\n",
        "    if normalize_type == \"per_feature\":\n",
        "        x_mean = np.zeros((seq_len.shape[0], x.shape[1]), dtype=x.dtype)\n",
        "        x_std = np.zeros((seq_len.shape[0], x.shape[1]), dtype=x.dtype)\n",
        "        for i in range(x.shape[0]):\n",
        "            x_mean[i, :] = np.mean(x[i, :, :seq_len[i]],axis=1)\n",
        "            x_std[i, :] = np.std(x[i, :, :seq_len[i]],axis=1)\n",
        "        # make sure x_std is not zero\n",
        "        x_std += 1e-10\n",
        "        return (x - np.expand_dims(x_mean,2)) / np.expand_dims(x_std,2)\n",
        "    else:\n",
        "        return x\n",
        "\n",
        "def hann_window(win_size, periodic=False, dtype=np.float64):\n",
        "    if periodic:\n",
        "        win_size+=1\n",
        "    return np.array([1/2*(1-np.cos(2*np.pi*i/(win_size-1),dtype=dtype)) for i in range(win_size)])\n",
        "\n",
        "\n",
        "\n",
        "class FilterbankFeatures():\n",
        "    \n",
        "    def __init__(self, spec_augment=None, cutout_augment=None,\n",
        "                 sample_rate=16000, window_size=0.02, window_stride=0.01,\n",
        "                 window=\"hann\", normalize=\"per_feature\", n_fft=512,\n",
        "                 preemph=0.97, n_filt=64, lowfreq=0, highfreq=None, log=True,\n",
        "                 dither=1e-5, pad_align=8, pad_to_max_duration=False,\n",
        "                 max_duration=float('inf'), frame_splicing=1):\n",
        "\n",
        "        torch_windows = {\n",
        "            'hann': hann_window,\n",
        "            'none': None,\n",
        "        }\n",
        "\n",
        "        self.n_fft = n_fft or 2 ** np.ceil(np.log2(self.win_length)) \n",
        "\n",
        "        self.win_length = int(sample_rate * window_size) # frame size\n",
        "        self.hop_length = int(sample_rate * window_stride)\n",
        "\n",
        "        self.normalize = normalize\n",
        "        self.log = log\n",
        "        #TORCHSCRIPT: Check whether or not we need this\n",
        "        self.dither = dither\n",
        "        self.frame_splicing = frame_splicing\n",
        "        self.n_filt = n_filt\n",
        "        self.preemph = preemph\n",
        "        highfreq = highfreq or sample_rate / 2\n",
        "        window_fn = torch_windows.get(window, None)\n",
        "        self.window_tensor = window_fn(self.win_length, periodic=False) if window_fn else None\n",
        "        self.filterbanks = np.expand_dims(np.array(mel(sample_rate, self.n_fft, n_mels=n_filt, fmin=lowfreq, fmax=highfreq), dtype=np.float),0)\n",
        "\n",
        "\n",
        "    def calculate_features(self, x, seq_len):\n",
        "        dtype = x.dtype\n",
        "\n",
        "        seq_len = np.ceil(seq_len / self.hop_length)\n",
        "        seq_len = np.array(seq_len,dtype=np.int)\n",
        "        \n",
        "        # dither\n",
        "        if self.dither > 0:\n",
        "            x += self.dither * np.random.randn(*x.shape)\n",
        "\n",
        "        # do preemphasis\n",
        "        if self.preemph is not None:\n",
        "            x = np.concatenate(\n",
        "                (np.expand_dims(x[:, 0],1), x[:, 1:] - self.preemph * x[:, :-1]), axis=1)\n",
        "        \n",
        "        # Short Time Fourier Transform\n",
        "        x  = stft(x, n_fft=self.n_fft, hop_length=self.hop_length,\n",
        "                  win_length=self.win_length,\n",
        "                  window=np.array(self.window_tensor,dtype=np.float))\n",
        "\n",
        "        # get power spectrum\n",
        "        x = (x**2).sum(-1)\n",
        "\n",
        "        # dot with filterbank energies\n",
        "        x = np.matmul(np.array(self.filterbanks,dtype=x.dtype), x)\n",
        "\n",
        "        # log features if required\n",
        "        if self.log:\n",
        "            x = np.log(x + 1e-20)\n",
        "\n",
        "        # frame splicing if required\n",
        "        if self.frame_splicing > 1:\n",
        "            raise ValueError('Frame splicing not supported')\n",
        "\n",
        "        # normalize if required\n",
        "        x = normalize_batch(x, seq_len, normalize_type=self.normalize)\n",
        "\n",
        "        # mask to zero any values beyond seq_len in batch,\n",
        "        # pad to multiple of `pad_align` (for efficiency)\n",
        "        max_len = x.shape[-1]\n",
        "        mask = np.arange(max_len, dtype=seq_len.dtype)\n",
        "        mask = np.tile(mask,(x.shape[0],1))\n",
        "        mask = mask >= np.expand_dims(seq_len,1)\n",
        "        x = np.ma.array(x,mask=np.tile(mask,(1,x.shape[1],1)), fill_value=0)\n",
        "        x.dtype=dtype\n",
        "        return x, seq_len"
      ],
      "execution_count": 2,
      "outputs": []
    },
    {
      "cell_type": "code",
      "metadata": {
        "id": "VUSsuyo0MJKO"
      },
      "source": [
        "# Constraint stft block sizes to 256kb\n",
        "MAX_MEM_BLOCK = 2 ** 8 * 2 ** 10\n",
        "\n",
        "def pad_center(data, size, axis=-1, **kwargs):\n",
        "    kwargs.setdefault(\"mode\", \"constant\")\n",
        "\n",
        "    n = data.shape[axis]\n",
        "\n",
        "    lpad = int((size - n) // 2)\n",
        "\n",
        "    lengths = [(0, 0)] * data.ndim\n",
        "    lengths[axis] = (lpad, int(size - n - lpad))\n",
        "\n",
        "    if lpad < 0:\n",
        "        raise Exception(\n",
        "            (\"Target size ({:d}) must be \" \"at least input size ({:d})\").format(size, n)\n",
        "        )\n",
        "\n",
        "    return np.pad(data, lengths, **kwargs)\n",
        "\n",
        "def frame(x, frame_length, hop_length, axis=-1):\n",
        "    if not isinstance(x, np.ndarray):\n",
        "        raise Exception(\n",
        "            \"Input must be of type numpy.ndarray, \" \"given type(x)={}\".format(type(x))\n",
        "        )\n",
        "\n",
        "    if x.shape[axis] < frame_length:\n",
        "        raise Exception(\n",
        "            \"Input is too short (n={:d})\"\n",
        "            \" for frame_length={:d}\".format(x.shape[axis], frame_length)\n",
        "        )\n",
        "\n",
        "    if hop_length < 1:\n",
        "        raise Exception(\"Invalid hop_length: {:d}\".format(hop_length))\n",
        "\n",
        "    if axis == -1 and not x.flags[\"F_CONTIGUOUS\"]:\n",
        "        x = np.asfortranarray(x)\n",
        "    elif axis == 0 and not x.flags[\"C_CONTIGUOUS\"]:\n",
        "        x = np.ascontiguousarray(x)\n",
        "\n",
        "    n_frames = 1 + (x.shape[axis] - frame_length) // hop_length\n",
        "    strides = np.asarray(x.strides)\n",
        "\n",
        "    new_stride = np.prod(strides[strides > 0] // x.itemsize) * x.itemsize\n",
        "\n",
        "    if axis == -1:\n",
        "        shape = list(x.shape)[:-1] + [frame_length, n_frames]\n",
        "        strides = list(strides) + [hop_length * new_stride]\n",
        "\n",
        "    elif axis == 0:\n",
        "        shape = [n_frames, frame_length] + list(x.shape)[1:]\n",
        "        strides = [hop_length * new_stride] + list(strides)\n",
        "\n",
        "    else:\n",
        "        raise Exception(\"Frame axis={} must be either 0 or -1\".format(axis))\n",
        "\n",
        "    return np.lib.stride_tricks.as_strided(x, shape=shape, strides=strides)\n",
        "\n",
        "def dtype_r2c(d, default=np.complex64):\n",
        "    mapping = {\n",
        "        np.dtype(np.float32): np.complex64,\n",
        "        np.dtype(np.float64): np.complex128,\n",
        "        np.dtype(np.float): np.complex,\n",
        "    }\n",
        "\n",
        "    # If we're given a complex type already, return it\n",
        "    dt = np.dtype(d)\n",
        "    if dt.kind == \"c\":\n",
        "        return dt\n",
        "\n",
        "    # Otherwise, try to map the dtype.\n",
        "    # If no match is found, return the default.\n",
        "    return np.dtype(mapping.get(dt, default))\n",
        "\n",
        "def stft(y, n_fft, hop_length=None, win_length=None, window=None, center=True, pad_mode='reflect', normalized=False, onesided=None, return_complex=None):\n",
        "    # Y is a 2d or 3d array with (Batch, Audio) format. TODO: make it batched operation\n",
        "    # By default, use the entire frame\n",
        "    if win_length is None:\n",
        "        win_length = n_fft\n",
        "\n",
        "    # Set the default hop, if it's not already specified\n",
        "    if hop_length is None:\n",
        "        hop_length = int(win_length // 4)\n",
        "\n",
        "    mono = False if y.ndim==3 else True\n",
        "\n",
        "    batch = y.shape[0]\n",
        "\n",
        "    fft_window = window\n",
        "\n",
        "\n",
        "    # Pad the window out to n_fft size\n",
        "    fft_window = pad_center(fft_window, n_fft)\n",
        "\n",
        "    # Reshape so that the window can be broadcast\n",
        "    fft_window = fft_window.reshape((-1, 1))\n",
        "\n",
        "    # Pad the time series so that frames are centered\n",
        "    if center:\n",
        "        y = np.pad(y, int(n_fft // 2), mode=pad_mode)\n",
        "        y = y[int(n_fft // 2):-1*int(n_fft // 2)]\n",
        "\n",
        "    elif n_fft > y.shape[-1]:\n",
        "        raise Exception(\n",
        "            \"n_fft={} is too large for input signal of length={}\".format(\n",
        "                n_fft, y.shape[-1]\n",
        "            )\n",
        "        )\n",
        "\n",
        "    # Window the time series.\n",
        "    y_frames = frame(y, frame_length=n_fft, hop_length=hop_length)\n",
        "    print(y_frames.shape)\n",
        "\n",
        "    dtype = dtype_r2c(y.dtype)\n",
        "\n",
        "    # Pre-allocate the STFT matrix\n",
        "    stft_matrix = np.empty(\n",
        "        (batch,int(1 + n_fft // 2), y_frames.shape[-1]), dtype=dtype, order=\"F\"\n",
        "    )\n",
        "\n",
        "    # how many columns can we fit within MAX_MEM_BLOCK?\n",
        "    n_columns = MAX_MEM_BLOCK // (stft_matrix.shape[0] * stft_matrix.itemsize)\n",
        "    n_columns = max(n_columns, 1)\n",
        "\n",
        "    for bl_s in range(0, stft_matrix.shape[-1], n_columns):\n",
        "        bl_t = min(bl_s + n_columns, stft_matrix.shape[1])\n",
        "        for i in range(batch):\n",
        "            stft_matrix[i,:, bl_s:bl_t] = np.fft.rfft(\n",
        "                fft_window * y_frames[i,:, bl_s:bl_t], axis=0\n",
        "            )\n",
        "    return np.stack((stft_matrix.real,stft_matrix.imag),axis=-1)"
      ],
      "execution_count": 3,
      "outputs": []
    },
    {
      "cell_type": "code",
      "metadata": {
        "id": "WPkaX-Qm5nSi"
      },
      "source": [
        "x = np.random.randn(2,1280)\n",
        "w = hann_window(320)"
      ],
      "execution_count": 4,
      "outputs": []
    },
    {
      "cell_type": "code",
      "metadata": {
        "id": "k95jRBJ4t2Wd",
        "colab": {
          "base_uri": "https://localhost:8080/"
        },
        "outputId": "442c1ed2-79f2-4327-8291-15c66239779a"
      },
      "source": [
        "o_prime=stft(np.array(x), n_fft=512, hop_length=160, win_length=320, window=np.array(w))"
      ],
      "execution_count": 5,
      "outputs": [
        {
          "output_type": "stream",
          "text": [
            "(2, 512, 9)\n"
          ],
          "name": "stdout"
        }
      ]
    },
    {
      "cell_type": "code",
      "metadata": {
        "colab": {
          "base_uri": "https://localhost:8080/"
        },
        "id": "faB6vGIVwY3i",
        "outputId": "9374868e-1b99-4247-881c-3f1b3008d84e"
      },
      "source": [
        "o_prime.shape"
      ],
      "execution_count": 6,
      "outputs": [
        {
          "output_type": "execute_result",
          "data": {
            "text/plain": [
              "(2, 257, 9, 2)"
            ]
          },
          "metadata": {
            "tags": []
          },
          "execution_count": 6
        }
      ]
    },
    {
      "cell_type": "code",
      "metadata": {
        "colab": {
          "base_uri": "https://localhost:8080/"
        },
        "id": "KI9amBfTrpp4",
        "outputId": "5a4dc138-59fa-4677-fa83-e7de84fec837"
      },
      "source": [
        "import torch\n",
        "tmp=torch.stft(torch.tensor(x), n_fft=512, hop_length=160, win_length=320, window=torch.tensor(w))"
      ],
      "execution_count": 7,
      "outputs": [
        {
          "output_type": "stream",
          "text": [
            "/usr/local/lib/python3.7/dist-packages/torch/functional.py:581: UserWarning: stft will soon require the return_complex parameter be given for real inputs, and will further require that return_complex=True in a future PyTorch release. (Triggered internally at  /pytorch/aten/src/ATen/native/SpectralOps.cpp:639.)\n",
            "  normalized, onesided, return_complex)\n"
          ],
          "name": "stderr"
        }
      ]
    },
    {
      "cell_type": "code",
      "metadata": {
        "colab": {
          "base_uri": "https://localhost:8080/"
        },
        "id": "WlJNVJhdueM4",
        "outputId": "3d29e017-8cd6-4e42-de3d-c103bbd46000"
      },
      "source": [
        "tmp.shape"
      ],
      "execution_count": 8,
      "outputs": [
        {
          "output_type": "execute_result",
          "data": {
            "text/plain": [
              "torch.Size([2, 257, 9, 2])"
            ]
          },
          "metadata": {
            "tags": []
          },
          "execution_count": 8
        }
      ]
    },
    {
      "cell_type": "code",
      "metadata": {
        "id": "2wNLq9r9yGg1"
      },
      "source": [
        "import pickle\n",
        "# pickle file on drive\n",
        "with open('sample_audio.pickle','rb') as f:\n",
        "    audio=pickle.load(f)"
      ],
      "execution_count": 16,
      "outputs": []
    },
    {
      "cell_type": "code",
      "metadata": {
        "id": "WdNYBkJbzQgg"
      },
      "source": [
        "# audio[1],audio[0].shape\n",
        "audio = audio[0][:25600]"
      ],
      "execution_count": 17,
      "outputs": []
    },
    {
      "cell_type": "code",
      "metadata": {
        "id": "SZ4t1y0H7a4B"
      },
      "source": [
        "audio=audio.reshape(2,12800)"
      ],
      "execution_count": 19,
      "outputs": []
    },
    {
      "cell_type": "code",
      "metadata": {
        "colab": {
          "base_uri": "https://localhost:8080/"
        },
        "id": "CEAdOaFb9jqc",
        "outputId": "9f416256-b897-4b55-c2fa-132b7cb29fbb"
      },
      "source": [
        "audio.shape"
      ],
      "execution_count": 20,
      "outputs": [
        {
          "output_type": "execute_result",
          "data": {
            "text/plain": [
              "(2, 12800)"
            ]
          },
          "metadata": {
            "tags": []
          },
          "execution_count": 20
        }
      ]
    },
    {
      "cell_type": "code",
      "metadata": {
        "id": "Xc6OikiJ_jjO",
        "colab": {
          "base_uri": "https://localhost:8080/"
        },
        "outputId": "4fe6ff77-5852-4537-c90e-70bdca2cbd35"
      },
      "source": [
        "temp=stft(audio, n_fft=512, hop_length=160, win_length=320, window=np.array(w))"
      ],
      "execution_count": 21,
      "outputs": [
        {
          "output_type": "stream",
          "text": [
            "(2, 512, 81)\n"
          ],
          "name": "stdout"
        }
      ]
    },
    {
      "cell_type": "code",
      "metadata": {
        "colab": {
          "base_uri": "https://localhost:8080/"
        },
        "id": "6pEM4JPF8EEy",
        "outputId": "857eb501-d760-49b6-96ff-bb85ecab7854"
      },
      "source": [
        "temp.shape"
      ],
      "execution_count": 22,
      "outputs": [
        {
          "output_type": "execute_result",
          "data": {
            "text/plain": [
              "(2, 257, 81, 2)"
            ]
          },
          "metadata": {
            "tags": []
          },
          "execution_count": 22
        }
      ]
    },
    {
      "cell_type": "code",
      "metadata": {
        "colab": {
          "base_uri": "https://localhost:8080/",
          "height": 274
        },
        "id": "I4Mn-ChZDSUP",
        "outputId": "ea46b2b4-c169-4d85-c80b-c04e82d51c8d"
      },
      "source": [
        "from google.colab.patches import cv2_imshow\n",
        "cv2_imshow((np.stack((temp[0,:,:,0],temp[0,:,:,1],np.zeros(temp.shape[1:-1])),axis=2)*255))\n",
        "# 1st channel is realvalues after fft, 2nd is imaginary"
      ],
      "execution_count": 28,
      "outputs": [
        {
          "output_type": "display_data",
          "data": {
            "image/png": "[encoded data removed]",
            "text/plain": [
              "<PIL.Image.Image image mode=RGB size=81x257 at 0x7F129F8E3F10>"
            ]
          },
          "metadata": {
            "tags": []
          }
        }
      ]
    },
    {
      "cell_type": "code",
      "metadata": {
        "id": "3UoskGBoIQN-"
      },
      "source": [
        "temp=torch.stft(torch.tensor(audio), n_fft=512, hop_length=160, win_length=320, window=torch.tensor(w))"
      ],
      "execution_count": 30,
      "outputs": []
    },
    {
      "cell_type": "code",
      "metadata": {
        "colab": {
          "base_uri": "https://localhost:8080/"
        },
        "id": "p9Y1tEaC8PwT",
        "outputId": "768a00b7-295e-47cf-eafa-4a8b11868e85"
      },
      "source": [
        "temp.shape"
      ],
      "execution_count": 31,
      "outputs": [
        {
          "output_type": "execute_result",
          "data": {
            "text/plain": [
              "torch.Size([2, 257, 81, 2])"
            ]
          },
          "metadata": {
            "tags": []
          },
          "execution_count": 31
        }
      ]
    },
    {
      "cell_type": "code",
      "metadata": {
        "colab": {
          "base_uri": "https://localhost:8080/",
          "height": 274
        },
        "id": "A8-L7igEIS88",
        "outputId": "1de54db8-899e-4f63-fcc7-bb29fe18aa46"
      },
      "source": [
        "from google.colab.patches import cv2_imshow\n",
        "cv2_imshow((np.stack((temp[0,:,:,0],temp[0,:,:,1],np.zeros(temp.shape[1:-1])),axis=2)*255))\n",
        "# 1st channel is realvalues after fft, 2nd is imaginary"
      ],
      "execution_count": 32,
      "outputs": [
        {
          "output_type": "display_data",
          "data": {
            "image/png": "[encoded data removed]",
            "text/plain": [
              "<PIL.Image.Image image mode=RGB size=81x257 at 0x7F129F8EFF50>"
            ]
          },
          "metadata": {
            "tags": []
          }
        }
      ]
    },
    {
      "cell_type": "code",
      "metadata": {
        "id": "U1Gp1rOHKAvW"
      },
      "source": [
        "import numpy as np\n",
        "def normalize(S, norm=np.inf, axis=0, threshold=None, fill=None):\n",
        "    # Avoid div-by-zero\n",
        "    if threshold is None:\n",
        "        threshold = tiny(S)\n",
        "\n",
        "    elif threshold <= 0:\n",
        "        raise ParameterError(\n",
        "            \"threshold={} must be strictly \" \"positive\".format(threshold)\n",
        "        )\n",
        "\n",
        "    if fill not in [None, False, True]:\n",
        "        raise ParameterError(\"fill={} must be None or boolean\".format(fill))\n",
        "\n",
        "    if not np.all(np.isfinite(S)):\n",
        "        raise ParameterError(\"Input must be finite\")\n",
        "\n",
        "    # All norms only depend on magnitude, let's do that first\n",
        "    mag = np.abs(S).astype(np.float)\n",
        "\n",
        "    # For max/min norms, filling with 1 works\n",
        "    fill_norm = 1\n",
        "\n",
        "    if norm == np.inf:\n",
        "        length = np.max(mag, axis=axis, keepdims=True)\n",
        "\n",
        "    elif norm == -np.inf:\n",
        "        length = np.min(mag, axis=axis, keepdims=True)\n",
        "\n",
        "    elif norm == 0:\n",
        "        if fill is True:\n",
        "            raise ParameterError(\"Cannot normalize with norm=0 and fill=True\")\n",
        "\n",
        "        length = np.sum(mag > 0, axis=axis, keepdims=True, dtype=mag.dtype)\n",
        "\n",
        "    elif np.issubdtype(type(norm), np.number) and norm > 0:\n",
        "        length = np.sum(mag ** norm, axis=axis, keepdims=True) ** (1.0 / norm)\n",
        "\n",
        "        if axis is None:\n",
        "            fill_norm = mag.size ** (-1.0 / norm)\n",
        "        else:\n",
        "            fill_norm = mag.shape[axis] ** (-1.0 / norm)\n",
        "\n",
        "    elif norm is None:\n",
        "        return S\n",
        "\n",
        "    else:\n",
        "        raise ParameterError(\"Unsupported norm: {}\".format(repr(norm)))\n",
        "\n",
        "    # indices where norm is below the threshold\n",
        "    small_idx = length < threshold\n",
        "\n",
        "    Snorm = np.empty_like(S)\n",
        "    if fill is None:\n",
        "        # Leave small indices un-normalized\n",
        "        length[small_idx] = 1.0\n",
        "        Snorm[:] = S / length\n",
        "\n",
        "    elif fill:\n",
        "        # If we have a non-zero fill value, we locate those entries by\n",
        "        # doing a nan-divide.\n",
        "        # If S was finite, then length is finite (except for small positions)\n",
        "        length[small_idx] = np.nan\n",
        "        Snorm[:] = S / length\n",
        "        Snorm[np.isnan(Snorm)] = fill_norm\n",
        "    else:\n",
        "        # Set small values to zero by doing an inf-divide.\n",
        "        # This is safe (by IEEE-754) as long as S is finite.\n",
        "        length[small_idx] = np.inf\n",
        "        Snorm[:] = S / length\n",
        "\n",
        "    return Snorm\n",
        "\n",
        "def hz_to_mel(frequencies, htk=False):\n",
        "    frequencies = np.asanyarray(frequencies)\n",
        "\n",
        "    if htk:\n",
        "        return 2595.0 * np.log10(1.0 + frequencies / 700.0)\n",
        "\n",
        "    # Fill in the linear part\n",
        "    f_min = 0.0\n",
        "    f_sp = 200.0 / 3\n",
        "\n",
        "    mels = (frequencies - f_min) / f_sp\n",
        "\n",
        "    # Fill in the log-scale part\n",
        "\n",
        "    min_log_hz = 1000.0  # beginning of log region (Hz)\n",
        "    min_log_mel = (min_log_hz - f_min) / f_sp  # same (Mels)\n",
        "    logstep = np.log(6.4) / 27.0  # step size for log region\n",
        "\n",
        "    if frequencies.ndim:\n",
        "        # If we have array data, vectorize\n",
        "        log_t = frequencies >= min_log_hz\n",
        "        mels[log_t] = min_log_mel + np.log(frequencies[log_t] / min_log_hz) / logstep\n",
        "    elif frequencies >= min_log_hz:\n",
        "        # If we have scalar data, heck directly\n",
        "        mels = min_log_mel + np.log(frequencies / min_log_hz) / logstep\n",
        "\n",
        "    return mels\n",
        "\n",
        "def mel_to_hz(mels, htk=False):\n",
        "    mels = np.asanyarray(mels)\n",
        "\n",
        "    if htk:\n",
        "        return 700.0 * (10.0 ** (mels / 2595.0) - 1.0)\n",
        "\n",
        "    # Fill in the linear scale\n",
        "    f_min = 0.0\n",
        "    f_sp = 200.0 / 3\n",
        "    freqs = f_min + f_sp * mels\n",
        "\n",
        "    # And now the nonlinear scale\n",
        "    min_log_hz = 1000.0  # beginning of log region (Hz)\n",
        "    min_log_mel = (min_log_hz - f_min) / f_sp  # same (Mels)\n",
        "    logstep = np.log(6.4) / 27.0  # step size for log region\n",
        "\n",
        "    if mels.ndim:\n",
        "        # If we have vector data, vectorize\n",
        "        log_t = mels >= min_log_mel\n",
        "        freqs[log_t] = min_log_hz * np.exp(logstep * (mels[log_t] - min_log_mel))\n",
        "    elif mels >= min_log_mel:\n",
        "        # If we have scalar data, check directly\n",
        "        freqs = min_log_hz * np.exp(logstep * (mels - min_log_mel))\n",
        "\n",
        "    return freqs\n",
        "\n",
        "def mel_frequencies(n_mels=128, fmin=0.0, fmax=11025.0, htk=False):\n",
        "    # 'Center freqs' of mel bands - uniformly spaced between limits\n",
        "    min_mel = hz_to_mel(fmin, htk=htk)\n",
        "    max_mel = hz_to_mel(fmax, htk=htk)\n",
        "\n",
        "    mels = np.linspace(min_mel, max_mel, n_mels)\n",
        "\n",
        "    return mel_to_hz(mels, htk=htk)\n",
        "\n",
        "def fft_frequencies(sr=22050, n_fft=2048):\n",
        "    return np.linspace(0, float(sr) / 2, int(1 + n_fft // 2), endpoint=True)\n",
        "\n",
        "def mel(sr, n_fft, n_mels=128, fmin=0.0, fmax=None, htk=False, norm=\"slaney\", dtype=np.float32):\n",
        "    if fmax is None:\n",
        "        fmax = float(sr) / 2\n",
        "\n",
        "    # Initialize the weights\n",
        "    n_mels = int(n_mels)\n",
        "    weights = np.zeros((n_mels, int(1 + n_fft // 2)), dtype=dtype)\n",
        "\n",
        "    # Center freqs of each FFT bin\n",
        "    fftfreqs = fft_frequencies(sr=sr, n_fft=n_fft)\n",
        "\n",
        "    # 'Center freqs' of mel bands - uniformly spaced between limits\n",
        "    mel_f = mel_frequencies(n_mels + 2, fmin=fmin, fmax=fmax, htk=htk)\n",
        "\n",
        "    fdiff = np.diff(mel_f)\n",
        "    ramps = np.subtract.outer(mel_f, fftfreqs)\n",
        "\n",
        "    for i in range(n_mels):\n",
        "        # lower and upper slopes for all bins\n",
        "        lower = -ramps[i] / fdiff[i]\n",
        "        upper = ramps[i + 2] / fdiff[i + 1]\n",
        "\n",
        "        # .. then intersect them with each other and zero\n",
        "        weights[i] = np.maximum(0, np.minimum(lower, upper))\n",
        "\n",
        "    if norm == \"slaney\":\n",
        "        # Slaney-style mel is scaled to be approx constant energy per channel\n",
        "        enorm = 2.0 / (mel_f[2 : n_mels + 2] - mel_f[:n_mels])\n",
        "        weights *= enorm[:, np.newaxis]\n",
        "    else:\n",
        "        weights = normalize(weights, norm=norm, axis=-1)\n",
        "    return weights"
      ],
      "execution_count": 33,
      "outputs": []
    },
    {
      "cell_type": "code",
      "metadata": {
        "colab": {
          "base_uri": "https://localhost:8080/"
        },
        "id": "6kLLUjM9RTsv",
        "outputId": "7330d469-b0c0-4327-a3b4-a9b31aab71a7"
      },
      "source": [
        "mel(16000,512).shape"
      ],
      "execution_count": 34,
      "outputs": [
        {
          "output_type": "execute_result",
          "data": {
            "text/plain": [
              "(128, 257)"
            ]
          },
          "metadata": {
            "tags": []
          },
          "execution_count": 34
        }
      ]
    },
    {
      "cell_type": "code",
      "metadata": {
        "id": "RMUc1TiATr_u"
      },
      "source": [
        "f = FilterbankFeatures()"
      ],
      "execution_count": 35,
      "outputs": []
    },
    {
      "cell_type": "code",
      "metadata": {
        "id": "WDwP-c2IUZWj",
        "colab": {
          "base_uri": "https://localhost:8080/"
        },
        "outputId": "b6f0e3d0-1a26-4f38-a290-ce2917474e6e"
      },
      "source": [
        "x=np.random.randn(2,2560)\n",
        "len = np.array([2560,2560],dtype=np.int)\n",
        "# stft not configured for batched input yet. Write normalize function\n",
        "r = f.calculate_features(x=x,seq_len=len)"
      ],
      "execution_count": 38,
      "outputs": [
        {
          "output_type": "stream",
          "text": [
            "(2, 512, 17)\n"
          ],
          "name": "stdout"
        }
      ]
    },
    {
      "cell_type": "code",
      "metadata": {
        "colab": {
          "base_uri": "https://localhost:8080/"
        },
        "id": "7k-gwYAfP_J-",
        "outputId": "a9ee9407-267e-4219-d99b-fdc0c2c76191"
      },
      "source": [
        "r[0].shape,r[1].shape"
      ],
      "execution_count": 39,
      "outputs": [
        {
          "output_type": "execute_result",
          "data": {
            "text/plain": [
              "((2, 64, 17), (2,))"
            ]
          },
          "metadata": {
            "tags": []
          },
          "execution_count": 39
        }
      ]
    },
    {
      "cell_type": "code",
      "metadata": {
        "id": "-AdojwpoAKdQ"
      },
      "source": [
        ""
      ],
      "execution_count": null,
      "outputs": []
    }
  ]
}